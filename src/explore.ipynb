{
    "cells": [
        {
            "cell_type": "markdown",
            "metadata": {},
            "source": [
                "# NLP Project\n",
                "\n",
                "In our last exploring NLP notebook we built an email spam detector using Natural Language Processing techniques and the Support Vector Machine (SVM) algorithm for classification.\n",
                "In this project, we will again build a spam detector but this time using URLs instead of emails."
            ]
        },
        {
            "cell_type": "code",
            "execution_count": 3,
            "metadata": {},
            "outputs": [
                {
                    "name": "stdout",
                    "output_type": "stream",
                    "text": [
                        "Collecting pandas\n",
                        "  Downloading pandas-1.4.3-cp38-cp38-manylinux_2_17_x86_64.manylinux2014_x86_64.whl (11.7 MB)\n",
                        "\u001b[2K     \u001b[90m━━━━━━━━━━━━━━━━━━━━━━━━━━━━━━━━━━━━━━━\u001b[0m \u001b[32m11.7/11.7 MB\u001b[0m \u001b[31m137.2 MB/s\u001b[0m eta \u001b[36m0:00:00\u001b[0m00:01\u001b[0m00:01\u001b[0m\n",
                        "\u001b[?25hCollecting numpy\n",
                        "  Downloading numpy-1.23.1-cp38-cp38-manylinux_2_17_x86_64.manylinux2014_x86_64.whl (17.1 MB)\n",
                        "\u001b[2K     \u001b[90m━━━━━━━━━━━━━━━━━━━━━━━━━━━━━━━━━━━━━━━\u001b[0m \u001b[32m17.1/17.1 MB\u001b[0m \u001b[31m118.4 MB/s\u001b[0m eta \u001b[36m0:00:00\u001b[0m00:01\u001b[0m00:01\u001b[0m\n",
                        "\u001b[?25hCollecting matplotlib\n",
                        "  Downloading matplotlib-3.5.2-cp38-cp38-manylinux_2_5_x86_64.manylinux1_x86_64.whl (11.3 MB)\n",
                        "\u001b[2K     \u001b[90m━━━━━━━━━━━━━━━━━━━━━━━━━━━━━━━━━━━━━━━\u001b[0m \u001b[32m11.3/11.3 MB\u001b[0m \u001b[31m159.6 MB/s\u001b[0m eta \u001b[36m0:00:00\u001b[0ma \u001b[36m0:00:01\u001b[0m\n",
                        "\u001b[?25hCollecting nltk\n",
                        "  Downloading nltk-3.7-py3-none-any.whl (1.5 MB)\n",
                        "\u001b[2K     \u001b[90m━━━━━━━━━━━━━━━━━━━━━━━━━━━━━━━━━━━━━━━━\u001b[0m \u001b[32m1.5/1.5 MB\u001b[0m \u001b[31m157.5 MB/s\u001b[0m eta \u001b[36m0:00:00\u001b[0m\n",
                        "\u001b[?25hCollecting seaborn\n",
                        "  Downloading seaborn-0.11.2-py3-none-any.whl (292 kB)\n",
                        "\u001b[2K     \u001b[90m━━━━━━━━━━━━━━━━━━━━━━━━━━━━━━━━━━━━━━\u001b[0m \u001b[32m292.8/292.8 kB\u001b[0m \u001b[31m80.0 MB/s\u001b[0m eta \u001b[36m0:00:00\u001b[0m\n",
                        "\u001b[?25hCollecting sklearn\n",
                        "  Downloading sklearn-0.0.tar.gz (1.1 kB)\n",
                        "  Preparing metadata (setup.py) ... \u001b[?25ldone\n",
                        "\u001b[?25hCollecting pytz>=2020.1\n",
                        "  Downloading pytz-2022.1-py2.py3-none-any.whl (503 kB)\n",
                        "\u001b[2K     \u001b[90m━━━━━━━━━━━━━━━━━━━━━━━━━━━━━━━━━━━━━\u001b[0m \u001b[32m503.5/503.5 kB\u001b[0m \u001b[31m120.0 MB/s\u001b[0m eta \u001b[36m0:00:00\u001b[0m\n",
                        "\u001b[?25hRequirement already satisfied: python-dateutil>=2.8.1 in /home/gitpod/.pyenv/versions/3.8.13/lib/python3.8/site-packages (from pandas->-r ../requirements.txt (line 2)) (2.8.2)\n",
                        "Collecting kiwisolver>=1.0.1\n",
                        "  Downloading kiwisolver-1.4.4-cp38-cp38-manylinux_2_5_x86_64.manylinux1_x86_64.whl (1.2 MB)\n",
                        "\u001b[2K     \u001b[90m━━━━━━━━━━━━━━━━━━━━━━━━━━━━━━━━━━━━━━━━\u001b[0m \u001b[32m1.2/1.2 MB\u001b[0m \u001b[31m148.5 MB/s\u001b[0m eta \u001b[36m0:00:00\u001b[0m\n",
                        "\u001b[?25hRequirement already satisfied: packaging>=20.0 in /home/gitpod/.pyenv/versions/3.8.13/lib/python3.8/site-packages (from matplotlib->-r ../requirements.txt (line 4)) (21.3)\n",
                        "Collecting fonttools>=4.22.0\n",
                        "  Downloading fonttools-4.34.4-py3-none-any.whl (944 kB)\n",
                        "\u001b[2K     \u001b[90m━━━━━━━━━━━━━━━━━━━━━━━━━━━━━━━━━━━━━\u001b[0m \u001b[32m944.1/944.1 kB\u001b[0m \u001b[31m138.6 MB/s\u001b[0m eta \u001b[36m0:00:00\u001b[0m\n",
                        "\u001b[?25hRequirement already satisfied: pyparsing>=2.2.1 in /home/gitpod/.pyenv/versions/3.8.13/lib/python3.8/site-packages (from matplotlib->-r ../requirements.txt (line 4)) (3.0.9)\n",
                        "Collecting cycler>=0.10\n",
                        "  Downloading cycler-0.11.0-py3-none-any.whl (6.4 kB)\n",
                        "Collecting pillow>=6.2.0\n",
                        "  Downloading Pillow-9.2.0-cp38-cp38-manylinux_2_28_x86_64.whl (3.2 MB)\n",
                        "\u001b[2K     \u001b[90m━━━━━━━━━━━━━━━━━━━━━━━━━━━━━━━━━━━━━━━━\u001b[0m \u001b[32m3.2/3.2 MB\u001b[0m \u001b[31m172.4 MB/s\u001b[0m eta \u001b[36m0:00:00\u001b[0m\n",
                        "\u001b[?25hCollecting joblib\n",
                        "  Downloading joblib-1.1.0-py2.py3-none-any.whl (306 kB)\n",
                        "\u001b[2K     \u001b[90m━━━━━━━━━━━━━━━━━━━━━━━━━━━━━━━━━━━━━━\u001b[0m \u001b[32m307.0/307.0 kB\u001b[0m \u001b[31m83.5 MB/s\u001b[0m eta \u001b[36m0:00:00\u001b[0m\n",
                        "\u001b[?25hCollecting click\n",
                        "  Downloading click-8.1.3-py3-none-any.whl (96 kB)\n",
                        "\u001b[2K     \u001b[90m━━━━━━━━━━━━━━━━━━━━━━━━━━━━━━━━━━━━━━━━\u001b[0m \u001b[32m96.6/96.6 kB\u001b[0m \u001b[31m41.9 MB/s\u001b[0m eta \u001b[36m0:00:00\u001b[0m\n",
                        "\u001b[?25hCollecting tqdm\n",
                        "  Downloading tqdm-4.64.0-py2.py3-none-any.whl (78 kB)\n",
                        "\u001b[2K     \u001b[90m━━━━━━━━━━━━━━━━━━━━━━━━━━━━━━━━━━━━━━━━\u001b[0m \u001b[32m78.4/78.4 kB\u001b[0m \u001b[31m35.8 MB/s\u001b[0m eta \u001b[36m0:00:00\u001b[0m\n",
                        "\u001b[?25hCollecting regex>=2021.8.3\n",
                        "  Downloading regex-2022.7.25-cp38-cp38-manylinux_2_17_x86_64.manylinux2014_x86_64.whl (768 kB)\n",
                        "\u001b[2K     \u001b[90m━━━━━━━━━━━━━━━━━━━━━━━━━━━━━━━━━━━━━\u001b[0m \u001b[32m768.2/768.2 kB\u001b[0m \u001b[31m146.4 MB/s\u001b[0m eta \u001b[36m0:00:00\u001b[0m\n",
                        "\u001b[?25hCollecting scipy>=1.0\n",
                        "  Downloading scipy-1.9.0-cp38-cp38-manylinux_2_17_x86_64.manylinux2014_x86_64.whl (43.4 MB)\n",
                        "\u001b[2K     \u001b[90m━━━━━━━━━━━━━━━━━━━━━━━━━━━━━━━━━━━━━━━━\u001b[0m \u001b[32m43.4/43.4 MB\u001b[0m \u001b[31m44.4 MB/s\u001b[0m eta \u001b[36m0:00:00\u001b[0m00:01\u001b[0m00:01\u001b[0m\n",
                        "\u001b[?25hCollecting scikit-learn\n",
                        "  Downloading scikit_learn-1.1.2-cp38-cp38-manylinux_2_17_x86_64.manylinux2014_x86_64.whl (31.2 MB)\n",
                        "\u001b[2K     \u001b[90m━━━━━━━━━━━━━━━━━━━━━━━━━━━━━━━━━━━━━━━━\u001b[0m \u001b[32m31.2/31.2 MB\u001b[0m \u001b[31m50.9 MB/s\u001b[0m eta \u001b[36m0:00:00\u001b[0m00:01\u001b[0m00:01\u001b[0m\n",
                        "\u001b[?25hRequirement already satisfied: six>=1.5 in /home/gitpod/.pyenv/versions/3.8.13/lib/python3.8/site-packages (from python-dateutil>=2.8.1->pandas->-r ../requirements.txt (line 2)) (1.16.0)\n",
                        "Collecting threadpoolctl>=2.0.0\n",
                        "  Downloading threadpoolctl-3.1.0-py3-none-any.whl (14 kB)\n",
                        "Building wheels for collected packages: sklearn\n",
                        "  Building wheel for sklearn (setup.py) ... \u001b[?25ldone\n",
                        "\u001b[?25h  Created wheel for sklearn: filename=sklearn-0.0-py2.py3-none-any.whl size=1304 sha256=39bf8f2d497ce46f563f9954e233ad7407aa9f3eb616e489edd612cf26537836\n",
                        "  Stored in directory: /home/gitpod/.cache/pip/wheels/22/0b/40/fd3f795caaa1fb4c6cb738bc1f56100be1e57da95849bfc897\n",
                        "Successfully built sklearn\n",
                        "Installing collected packages: pytz, tqdm, threadpoolctl, regex, pillow, numpy, kiwisolver, joblib, fonttools, cycler, click, scipy, pandas, nltk, matplotlib, seaborn, scikit-learn, sklearn\n",
                        "Successfully installed click-8.1.3 cycler-0.11.0 fonttools-4.34.4 joblib-1.1.0 kiwisolver-1.4.4 matplotlib-3.5.2 nltk-3.7 numpy-1.23.1 pandas-1.4.3 pillow-9.2.0 pytz-2022.1 regex-2022.7.25 scikit-learn-1.1.2 scipy-1.9.0 seaborn-0.11.2 sklearn-0.0 threadpoolctl-3.1.0 tqdm-4.64.0\n",
                        "\n",
                        "\u001b[1m[\u001b[0m\u001b[34;49mnotice\u001b[0m\u001b[1;39;49m]\u001b[0m\u001b[39;49m A new release of pip available: \u001b[0m\u001b[31;49m22.2\u001b[0m\u001b[39;49m -> \u001b[0m\u001b[32;49m22.2.2\u001b[0m\n",
                        "\u001b[1m[\u001b[0m\u001b[34;49mnotice\u001b[0m\u001b[1;39;49m]\u001b[0m\u001b[39;49m To update, run: \u001b[0m\u001b[32;49mpip install --upgrade pip\u001b[0m\n"
                    ]
                }
            ],
            "source": [
                "!pip install -r ../requirements.txt"
            ]
        },
        {
            "cell_type": "markdown",
            "metadata": {},
            "source": [
                "# Import"
            ]
        },
        {
            "cell_type": "code",
            "execution_count": 96,
            "metadata": {},
            "outputs": [],
            "source": [
                "import pandas as pd\n",
                "import numpy as np\n",
                "import re\n",
                "\n",
                "from sklearn.svm import SVC\n",
                "from sklearn.feature_extraction.text import CountVectorizer \n",
                "from sklearn.model_selection import train_test_split\n",
                "from sklearn.metrics import classification_report, confusion_matrix"
            ]
        },
        {
            "cell_type": "markdown",
            "metadata": {},
            "source": [
                "# Load Data"
            ]
        },
        {
            "cell_type": "code",
            "execution_count": 29,
            "metadata": {},
            "outputs": [],
            "source": [
                "#load data\n",
                "url = \"https://raw.githubusercontent.com/4GeeksAcademy/NLP-project-tutorial/main/url_spam.csv\"\n",
                "df_raw = pd.read_csv(url)"
            ]
        },
        {
            "cell_type": "code",
            "execution_count": 6,
            "metadata": {},
            "outputs": [
                {
                    "name": "stdout",
                    "output_type": "stream",
                    "text": [
                        "<class 'pandas.core.frame.DataFrame'>\n",
                        "RangeIndex: 2999 entries, 0 to 2998\n",
                        "Data columns (total 2 columns):\n",
                        " #   Column   Non-Null Count  Dtype \n",
                        "---  ------   --------------  ----- \n",
                        " 0   url      2999 non-null   object\n",
                        " 1   is_spam  2999 non-null   bool  \n",
                        "dtypes: bool(1), object(1)\n",
                        "memory usage: 26.5+ KB\n"
                    ]
                }
            ],
            "source": [
                "df_raw.info()"
            ]
        },
        {
            "cell_type": "code",
            "execution_count": 7,
            "metadata": {},
            "outputs": [
                {
                    "data": {
                        "text/html": [
                            "<div>\n",
                            "<style scoped>\n",
                            "    .dataframe tbody tr th:only-of-type {\n",
                            "        vertical-align: middle;\n",
                            "    }\n",
                            "\n",
                            "    .dataframe tbody tr th {\n",
                            "        vertical-align: top;\n",
                            "    }\n",
                            "\n",
                            "    .dataframe thead th {\n",
                            "        text-align: right;\n",
                            "    }\n",
                            "</style>\n",
                            "<table border=\"1\" class=\"dataframe\">\n",
                            "  <thead>\n",
                            "    <tr style=\"text-align: right;\">\n",
                            "      <th></th>\n",
                            "      <th>url</th>\n",
                            "      <th>is_spam</th>\n",
                            "    </tr>\n",
                            "  </thead>\n",
                            "  <tbody>\n",
                            "    <tr>\n",
                            "      <th>2009</th>\n",
                            "      <td>https://www.npr.org/sections/health-shots/2020...</td>\n",
                            "      <td>False</td>\n",
                            "    </tr>\n",
                            "    <tr>\n",
                            "      <th>2005</th>\n",
                            "      <td>https://www.politico.com/news/2020/06/29/sun-b...</td>\n",
                            "      <td>False</td>\n",
                            "    </tr>\n",
                            "    <tr>\n",
                            "      <th>2174</th>\n",
                            "      <td>https://apnews.com/fcf3ec359401c7575f5402b4da9...</td>\n",
                            "      <td>False</td>\n",
                            "    </tr>\n",
                            "    <tr>\n",
                            "      <th>2729</th>\n",
                            "      <td>https://apnews.com/8e2b3b7ca3bb2475b9ae901dad4...</td>\n",
                            "      <td>False</td>\n",
                            "    </tr>\n",
                            "    <tr>\n",
                            "      <th>1687</th>\n",
                            "      <td>https://www.hvper.com/</td>\n",
                            "      <td>True</td>\n",
                            "    </tr>\n",
                            "    <tr>\n",
                            "      <th>2075</th>\n",
                            "      <td>https://www.msn.com/en-us/news/us/the-black-of...</td>\n",
                            "      <td>False</td>\n",
                            "    </tr>\n",
                            "    <tr>\n",
                            "      <th>1529</th>\n",
                            "      <td>https://www.cbsnews.com/news/bubba-wallace-nas...</td>\n",
                            "      <td>False</td>\n",
                            "    </tr>\n",
                            "    <tr>\n",
                            "      <th>1636</th>\n",
                            "      <td>https://www.theatlantic.com/politics/archive/2...</td>\n",
                            "      <td>False</td>\n",
                            "    </tr>\n",
                            "    <tr>\n",
                            "      <th>1926</th>\n",
                            "      <td>https://en.wikipedia.org/wiki/The_Lady%27s_Not...</td>\n",
                            "      <td>False</td>\n",
                            "    </tr>\n",
                            "    <tr>\n",
                            "      <th>1936</th>\n",
                            "      <td>https://www.theskimm.com/picks/beach-products-...</td>\n",
                            "      <td>True</td>\n",
                            "    </tr>\n",
                            "  </tbody>\n",
                            "</table>\n",
                            "</div>"
                        ],
                        "text/plain": [
                            "                                                    url  is_spam\n",
                            "2009  https://www.npr.org/sections/health-shots/2020...    False\n",
                            "2005  https://www.politico.com/news/2020/06/29/sun-b...    False\n",
                            "2174  https://apnews.com/fcf3ec359401c7575f5402b4da9...    False\n",
                            "2729  https://apnews.com/8e2b3b7ca3bb2475b9ae901dad4...    False\n",
                            "1687                             https://www.hvper.com/     True\n",
                            "2075  https://www.msn.com/en-us/news/us/the-black-of...    False\n",
                            "1529  https://www.cbsnews.com/news/bubba-wallace-nas...    False\n",
                            "1636  https://www.theatlantic.com/politics/archive/2...    False\n",
                            "1926  https://en.wikipedia.org/wiki/The_Lady%27s_Not...    False\n",
                            "1936  https://www.theskimm.com/picks/beach-products-...     True"
                        ]
                    },
                    "execution_count": 7,
                    "metadata": {},
                    "output_type": "execute_result"
                }
            ],
            "source": [
                "df_raw.sample(10)"
            ]
        },
        {
            "cell_type": "code",
            "execution_count": 8,
            "metadata": {},
            "outputs": [
                {
                    "data": {
                        "text/plain": [
                            "False    2303\n",
                            "True      696\n",
                            "Name: is_spam, dtype: int64"
                        ]
                    },
                    "execution_count": 8,
                    "metadata": {},
                    "output_type": "execute_result"
                }
            ],
            "source": [
                "#check the target\n",
                "df_raw['is_spam'].value_counts()\n"
            ]
        },
        {
            "cell_type": "code",
            "execution_count": 30,
            "metadata": {},
            "outputs": [
                {
                    "name": "stdout",
                    "output_type": "stream",
                    "text": [
                        "Number of duplicated rows: 630\n"
                    ]
                },
                {
                    "data": {
                        "text/plain": [
                            "False    2125\n",
                            "True      244\n",
                            "Name: is_spam, dtype: int64"
                        ]
                    },
                    "execution_count": 30,
                    "metadata": {},
                    "output_type": "execute_result"
                }
            ],
            "source": [
                "# Check duplicates\n",
                "print('Number of duplicated rows:',df_raw.duplicated().sum())  \n",
                "df_raw = df_raw.drop_duplicates().reset_index(drop = True)\n",
                "df_raw['is_spam'].value_counts()\n",
                "#doubt: the data is more unbalanced \n",
                "#clean 452 spam, and only 178 not spam\n"
            ]
        },
        {
            "cell_type": "markdown",
            "metadata": {},
            "source": [
                "## PREPROCESS"
            ]
        },
        {
            "cell_type": "code",
            "execution_count": 79,
            "metadata": {},
            "outputs": [],
            "source": [
                "#make a copy\n",
                "df_interim = df_raw.copy()"
            ]
        },
        {
            "cell_type": "code",
            "execution_count": 80,
            "metadata": {},
            "outputs": [],
            "source": [
                "def clean_data(urlData):\n",
                "  \n",
                "    #remove punctuation, digit, simbols\n",
                "    urlData = re.sub('[^a-zA-Z]', ' ', urlData)\n",
                "    \n",
                "    #duplicate space\n",
                "    urlData = re.sub(r'\\s+', ' ',  urlData)\n",
                "    #urlData=\" \".join(urlData.split())\n",
                "\n",
                "    urlData = re.sub(r'\\b[a-zA-Z]\\b', ' ',urlData)  #\\b word boundary\n",
                "\n",
                "    urlData = urlData.strip()   #remove space on right and left include tab\n",
                "    return urlData\n",
                "\n",
                "#print(df_interim['url'][2])\n",
                "#clean_data(df_interim['url'][2])\n"
            ]
        },
        {
            "cell_type": "code",
            "execution_count": 81,
            "metadata": {},
            "outputs": [
                {
                    "data": {
                        "text/plain": [
                            "0     https briefingday us list manage com unsubscribe\n",
                            "1                                  https www hvper com\n",
                            "2                                https briefingday com\n",
                            "3                https briefingday com     commentform\n",
                            "4                            https briefingday com fan\n",
                            "5    https www brookings edu interactives reopening...\n",
                            "6    https www reuters com investigates special rep...\n",
                            "7    https www theatlantic com magazine archive sup...\n",
                            "8    https www vox com john bolton book excerpts tr...\n",
                            "9    https www theguardian com travel jun end of to...\n",
                            "Name: url, dtype: object"
                        ]
                    },
                    "execution_count": 81,
                    "metadata": {},
                    "output_type": "execute_result"
                }
            ],
            "source": [
                "#Texto a minúscula\n",
                "df_raw['url'] = df_raw['url'].str.lower()\n",
                " \n",
                "#clean-data\n",
                "df_interim['url'] = df_interim['url'].apply(clean_data)\n",
                "df_interim['url'].head(10)"
            ]
        },
        {
            "cell_type": "code",
            "execution_count": 82,
            "metadata": {},
            "outputs": [],
            "source": [
                "#fuction to reove stopwords\n",
                "stopWord = ['is','you','your','and', 'the', 'to', 'from', 'or', 'I', 'for', 'do', 'get', 'not', 'here', 'in', 'im', 'have', 'on',\n",
                "'re', 'https', 'com', 'of']  \n",
                "#include https,  have http not secure urls, and other \n",
                "#include com, have other like edu\n",
                "\n",
                "def remove_stopwords(urlData):\n",
                "  if urlData is not None:\n",
                "    words = urlData.strip().split()\n",
                "    words_filtered = []\n",
                "    for word in words:\n",
                "      if word not in stopWord:\n",
                "        words_filtered.append(word)\n",
                "    result = \" \".join(words_filtered) #hace un join elemento por elemento separados por espacio\n",
                "  else:\n",
                "      result = None\n",
                "  return result"
            ]
        },
        {
            "cell_type": "code",
            "execution_count": 83,
            "metadata": {},
            "outputs": [
                {
                    "data": {
                        "text/html": [
                            "<div>\n",
                            "<style scoped>\n",
                            "    .dataframe tbody tr th:only-of-type {\n",
                            "        vertical-align: middle;\n",
                            "    }\n",
                            "\n",
                            "    .dataframe tbody tr th {\n",
                            "        vertical-align: top;\n",
                            "    }\n",
                            "\n",
                            "    .dataframe thead th {\n",
                            "        text-align: right;\n",
                            "    }\n",
                            "</style>\n",
                            "<table border=\"1\" class=\"dataframe\">\n",
                            "  <thead>\n",
                            "    <tr style=\"text-align: right;\">\n",
                            "      <th></th>\n",
                            "      <th>url</th>\n",
                            "      <th>is_spam</th>\n",
                            "    </tr>\n",
                            "  </thead>\n",
                            "  <tbody>\n",
                            "    <tr>\n",
                            "      <th>644</th>\n",
                            "      <td>www youtube watch koaovbyfja</td>\n",
                            "      <td>False</td>\n",
                            "    </tr>\n",
                            "    <tr>\n",
                            "      <th>2109</th>\n",
                            "      <td>vuoriclothing pages</td>\n",
                            "      <td>False</td>\n",
                            "    </tr>\n",
                            "    <tr>\n",
                            "      <th>2178</th>\n",
                            "      <td>www npr org supreme court montana cant exclude...</td>\n",
                            "      <td>False</td>\n",
                            "    </tr>\n",
                            "    <tr>\n",
                            "      <th>415</th>\n",
                            "      <td>www usatoday story news world huge circle anci...</td>\n",
                            "      <td>False</td>\n",
                            "    </tr>\n",
                            "    <tr>\n",
                            "      <th>1884</th>\n",
                            "      <td>www politico news house democrats russia bount...</td>\n",
                            "      <td>False</td>\n",
                            "    </tr>\n",
                            "    <tr>\n",
                            "      <th>1344</th>\n",
                            "      <td>www complex style kanye west taps mowalola ogu...</td>\n",
                            "      <td>False</td>\n",
                            "    </tr>\n",
                            "    <tr>\n",
                            "      <th>1747</th>\n",
                            "      <td>www wsj articles amazon acquire self driving s...</td>\n",
                            "      <td>False</td>\n",
                            "    </tr>\n",
                            "    <tr>\n",
                            "      <th>2050</th>\n",
                            "      <td>www theverge apple iphone power adapter charge...</td>\n",
                            "      <td>False</td>\n",
                            "    </tr>\n",
                            "    <tr>\n",
                            "      <th>380</th>\n",
                            "      <td>www nytimes business cheese cheddar prices html</td>\n",
                            "      <td>False</td>\n",
                            "    </tr>\n",
                            "    <tr>\n",
                            "      <th>1927</th>\n",
                            "      <td>news berkeley edu native amazonians americans ...</td>\n",
                            "      <td>False</td>\n",
                            "    </tr>\n",
                            "  </tbody>\n",
                            "</table>\n",
                            "</div>"
                        ],
                        "text/plain": [
                            "                                                    url  is_spam\n",
                            "644                        www youtube watch koaovbyfja    False\n",
                            "2109                                vuoriclothing pages    False\n",
                            "2178  www npr org supreme court montana cant exclude...    False\n",
                            "415   www usatoday story news world huge circle anci...    False\n",
                            "1884  www politico news house democrats russia bount...    False\n",
                            "1344  www complex style kanye west taps mowalola ogu...    False\n",
                            "1747  www wsj articles amazon acquire self driving s...    False\n",
                            "2050  www theverge apple iphone power adapter charge...    False\n",
                            "380     www nytimes business cheese cheddar prices html    False\n",
                            "1927  news berkeley edu native amazonians americans ...    False"
                        ]
                    },
                    "execution_count": 83,
                    "metadata": {},
                    "output_type": "execute_result"
                }
            ],
            "source": [
                "df_interim['url'] = df_interim['url'].apply(remove_stopwords)\n",
                "df_interim.sample(10)"
            ]
        },
        {
            "cell_type": "code",
            "execution_count": 88,
            "metadata": {},
            "outputs": [
                {
                    "name": "stdout",
                    "output_type": "stream",
                    "text": [
                        "Diferent values: 5997\n"
                    ]
                },
                {
                    "data": {
                        "text/plain": [
                            "www            1512\n",
                            "html            296\n",
                            "news            274\n",
                            "us              248\n",
                            "coronavirus     172\n",
                            "org             146\n",
                            "article         131\n",
                            "morningbrew     105\n",
                            "story           105\n",
                            "nytimes         101\n",
                            "daily            99\n",
                            "stories          94\n",
                            "utm              90\n",
                            "youtube          89\n",
                            "trump            88\n",
                            "numlock          87\n",
                            "watch            86\n",
                            "new              76\n",
                            "world            68\n",
                            "substack         68\n",
                            "reuters          65\n",
                            "covid            63\n",
                            "index            61\n",
                            "briefingday      61\n",
                            "en               59\n",
                            "vox              59\n",
                            "cnn              58\n",
                            "iduskbn          58\n",
                            "articles         58\n",
                            "co               56\n",
                            "politics         56\n",
                            "cnbc             54\n",
                            "sunday           51\n",
                            "business         49\n",
                            "court            48\n",
                            "apnews           47\n",
                            "email            46\n",
                            "facebook         46\n",
                            "health           45\n",
                            "supreme          41\n",
                            "bbc              41\n",
                            "be               41\n",
                            "are              40\n",
                            "blog             40\n",
                            "medium           39\n",
                            "black            39\n",
                            "police           38\n",
                            "npr              38\n",
                            "digg             37\n",
                            "with             37\n",
                            "campaign         37\n",
                            "why              36\n",
                            "cases            35\n",
                            "theguardian      35\n",
                            "theverge         35\n",
                            "apple            35\n",
                            "source           34\n",
                            "how              34\n",
                            "live             34\n",
                            "what             33\n",
                            "dtype: int64"
                        ]
                    },
                    "execution_count": 88,
                    "metadata": {},
                    "output_type": "execute_result"
                }
            ],
            "source": [
                "df_interim_values = df_interim['url'].str.split(expand=True).stack().value_counts()\n",
                "print('Diferent values: ',df_interim_values.size)\n",
                "df_interim_values[:60]\n",
                "#Chequeamos si funciona"
            ]
        },
        {
            "cell_type": "markdown",
            "metadata": {},
            "source": [
                "# MODEL"
            ]
        },
        {
            "cell_type": "code",
            "execution_count": 89,
            "metadata": {},
            "outputs": [],
            "source": [
                "df = df_interim.copy()"
            ]
        },
        {
            "cell_type": "code",
            "execution_count": 90,
            "metadata": {},
            "outputs": [],
            "source": [
                "X = df['url']\n",
                "y = df['is_spam'] "
            ]
        },
        {
            "cell_type": "code",
            "execution_count": 92,
            "metadata": {},
            "outputs": [],
            "source": [
                "X_train, X_test, y_train, y_test = train_test_split(X, y, stratify=y)"
            ]
        },
        {
            "cell_type": "code",
            "execution_count": 93,
            "metadata": {},
            "outputs": [
                {
                    "data": {
                        "text/plain": [
                            "array([[0, 0, 0, ..., 0, 0, 0],\n",
                            "       [0, 0, 0, ..., 0, 0, 0],\n",
                            "       [0, 0, 0, ..., 0, 0, 0],\n",
                            "       ...,\n",
                            "       [0, 0, 0, ..., 0, 0, 0],\n",
                            "       [0, 0, 0, ..., 0, 0, 0],\n",
                            "       [0, 0, 0, ..., 0, 0, 0]])"
                        ]
                    },
                    "execution_count": 93,
                    "metadata": {},
                    "output_type": "execute_result"
                }
            ],
            "source": [
                "#Vectorizador\n",
                "vec = CountVectorizer()\n",
                "\n",
                "#create matrix\n",
                "X_train = vec.fit_transform(X_train).toarray()\n",
                "X_test = vec.transform(X_test).toarray()\n",
                "\n",
                "X_train"
            ]
        },
        {
            "cell_type": "code",
            "execution_count": 94,
            "metadata": {},
            "outputs": [
                {
                    "data": {
                        "text/html": [
                            "<style>#sk-container-id-1 {color: black;background-color: white;}#sk-container-id-1 pre{padding: 0;}#sk-container-id-1 div.sk-toggleable {background-color: white;}#sk-container-id-1 label.sk-toggleable__label {cursor: pointer;display: block;width: 100%;margin-bottom: 0;padding: 0.3em;box-sizing: border-box;text-align: center;}#sk-container-id-1 label.sk-toggleable__label-arrow:before {content: \"▸\";float: left;margin-right: 0.25em;color: #696969;}#sk-container-id-1 label.sk-toggleable__label-arrow:hover:before {color: black;}#sk-container-id-1 div.sk-estimator:hover label.sk-toggleable__label-arrow:before {color: black;}#sk-container-id-1 div.sk-toggleable__content {max-height: 0;max-width: 0;overflow: hidden;text-align: left;background-color: #f0f8ff;}#sk-container-id-1 div.sk-toggleable__content pre {margin: 0.2em;color: black;border-radius: 0.25em;background-color: #f0f8ff;}#sk-container-id-1 input.sk-toggleable__control:checked~div.sk-toggleable__content {max-height: 200px;max-width: 100%;overflow: auto;}#sk-container-id-1 input.sk-toggleable__control:checked~label.sk-toggleable__label-arrow:before {content: \"▾\";}#sk-container-id-1 div.sk-estimator input.sk-toggleable__control:checked~label.sk-toggleable__label {background-color: #d4ebff;}#sk-container-id-1 div.sk-label input.sk-toggleable__control:checked~label.sk-toggleable__label {background-color: #d4ebff;}#sk-container-id-1 input.sk-hidden--visually {border: 0;clip: rect(1px 1px 1px 1px);clip: rect(1px, 1px, 1px, 1px);height: 1px;margin: -1px;overflow: hidden;padding: 0;position: absolute;width: 1px;}#sk-container-id-1 div.sk-estimator {font-family: monospace;background-color: #f0f8ff;border: 1px dotted black;border-radius: 0.25em;box-sizing: border-box;margin-bottom: 0.5em;}#sk-container-id-1 div.sk-estimator:hover {background-color: #d4ebff;}#sk-container-id-1 div.sk-parallel-item::after {content: \"\";width: 100%;border-bottom: 1px solid gray;flex-grow: 1;}#sk-container-id-1 div.sk-label:hover label.sk-toggleable__label {background-color: #d4ebff;}#sk-container-id-1 div.sk-serial::before {content: \"\";position: absolute;border-left: 1px solid gray;box-sizing: border-box;top: 0;bottom: 0;left: 50%;z-index: 0;}#sk-container-id-1 div.sk-serial {display: flex;flex-direction: column;align-items: center;background-color: white;padding-right: 0.2em;padding-left: 0.2em;position: relative;}#sk-container-id-1 div.sk-item {position: relative;z-index: 1;}#sk-container-id-1 div.sk-parallel {display: flex;align-items: stretch;justify-content: center;background-color: white;position: relative;}#sk-container-id-1 div.sk-item::before, #sk-container-id-1 div.sk-parallel-item::before {content: \"\";position: absolute;border-left: 1px solid gray;box-sizing: border-box;top: 0;bottom: 0;left: 50%;z-index: -1;}#sk-container-id-1 div.sk-parallel-item {display: flex;flex-direction: column;z-index: 1;position: relative;background-color: white;}#sk-container-id-1 div.sk-parallel-item:first-child::after {align-self: flex-end;width: 50%;}#sk-container-id-1 div.sk-parallel-item:last-child::after {align-self: flex-start;width: 50%;}#sk-container-id-1 div.sk-parallel-item:only-child::after {width: 0;}#sk-container-id-1 div.sk-dashed-wrapped {border: 1px dashed gray;margin: 0 0.4em 0.5em 0.4em;box-sizing: border-box;padding-bottom: 0.4em;background-color: white;}#sk-container-id-1 div.sk-label label {font-family: monospace;font-weight: bold;display: inline-block;line-height: 1.2em;}#sk-container-id-1 div.sk-label-container {text-align: center;}#sk-container-id-1 div.sk-container {/* jupyter's `normalize.less` sets `[hidden] { display: none; }` but bootstrap.min.css set `[hidden] { display: none !important; }` so we also need the `!important` here to be able to override the default hidden behavior on the sphinx rendered scikit-learn.org. See: https://github.com/scikit-learn/scikit-learn/issues/21755 */display: inline-block !important;position: relative;}#sk-container-id-1 div.sk-text-repr-fallback {display: none;}</style><div id=\"sk-container-id-1\" class=\"sk-top-container\"><div class=\"sk-text-repr-fallback\"><pre>SVC(gamma=&#x27;auto&#x27;, kernel=&#x27;linear&#x27;)</pre><b>In a Jupyter environment, please rerun this cell to show the HTML representation or trust the notebook. <br />On GitHub, the HTML representation is unable to render, please try loading this page with nbviewer.org.</b></div><div class=\"sk-container\" hidden><div class=\"sk-item\"><div class=\"sk-estimator sk-toggleable\"><input class=\"sk-toggleable__control sk-hidden--visually\" id=\"sk-estimator-id-1\" type=\"checkbox\" checked><label for=\"sk-estimator-id-1\" class=\"sk-toggleable__label sk-toggleable__label-arrow\">SVC</label><div class=\"sk-toggleable__content\"><pre>SVC(gamma=&#x27;auto&#x27;, kernel=&#x27;linear&#x27;)</pre></div></div></div></div></div>"
                        ],
                        "text/plain": [
                            "SVC(gamma='auto', kernel='linear')"
                        ]
                    },
                    "execution_count": 94,
                    "metadata": {},
                    "output_type": "execute_result"
                }
            ],
            "source": [
                "#create the model using SVC\n",
                "svclassifier = SVC(C=1.0, kernel='linear', degree=3, gamma='auto')\n",
                "svclassifier.fit(X_train, y_train)"
            ]
        },
        {
            "cell_type": "code",
            "execution_count": 95,
            "metadata": {},
            "outputs": [],
            "source": [
                "#Predicted using test data\n",
                "y_pred = svclassifier.predict(X_test)"
            ]
        },
        {
            "cell_type": "code",
            "execution_count": 97,
            "metadata": {},
            "outputs": [
                {
                    "name": "stdout",
                    "output_type": "stream",
                    "text": [
                        "[[516  16]\n",
                        " [ 23  38]]\n",
                        "              precision    recall  f1-score   support\n",
                        "\n",
                        "       False       0.96      0.97      0.96       532\n",
                        "        True       0.70      0.62      0.66        61\n",
                        "\n",
                        "    accuracy                           0.93       593\n",
                        "   macro avg       0.83      0.80      0.81       593\n",
                        "weighted avg       0.93      0.93      0.93       593\n",
                        "\n"
                    ]
                }
            ],
            "source": [
                "#evalute using confusion matrix\n",
                "print(confusion_matrix(y_test,y_pred))\n",
                "print(classification_report(y_test,y_pred))"
            ]
        },
        {
            "cell_type": "markdown",
            "metadata": {},
            "source": [
                "# GRIDSEARCHCV "
            ]
        },
        {
            "cell_type": "code",
            "execution_count": 98,
            "metadata": {},
            "outputs": [
                {
                    "name": "stdout",
                    "output_type": "stream",
                    "text": [
                        "Fitting 5 folds for each of 12 candidates, totalling 60 fits\n",
                        "[CV] END ......................C=0.1, gamma=1, kernel=linear; total time=   1.8s\n",
                        "[CV] END ......................C=0.1, gamma=1, kernel=linear; total time=   1.7s\n",
                        "[CV] END ......................C=0.1, gamma=1, kernel=linear; total time=   1.7s\n",
                        "[CV] END ......................C=0.1, gamma=1, kernel=linear; total time=   1.8s\n",
                        "[CV] END ......................C=0.1, gamma=1, kernel=linear; total time=   1.9s\n",
                        "[CV] END ....................C=0.1, gamma=0.1, kernel=linear; total time=   1.7s\n",
                        "[CV] END ....................C=0.1, gamma=0.1, kernel=linear; total time=   1.8s\n",
                        "[CV] END ....................C=0.1, gamma=0.1, kernel=linear; total time=   1.7s\n",
                        "[CV] END ....................C=0.1, gamma=0.1, kernel=linear; total time=   1.8s\n",
                        "[CV] END ....................C=0.1, gamma=0.1, kernel=linear; total time=   1.7s\n",
                        "[CV] END ...................C=0.1, gamma=0.01, kernel=linear; total time=   1.7s\n",
                        "[CV] END ...................C=0.1, gamma=0.01, kernel=linear; total time=   1.7s\n",
                        "[CV] END ...................C=0.1, gamma=0.01, kernel=linear; total time=   1.7s\n",
                        "[CV] END ...................C=0.1, gamma=0.01, kernel=linear; total time=   1.9s\n",
                        "[CV] END ...................C=0.1, gamma=0.01, kernel=linear; total time=   1.7s\n",
                        "[CV] END ..................C=0.1, gamma=0.001, kernel=linear; total time=   1.7s\n",
                        "[CV] END ..................C=0.1, gamma=0.001, kernel=linear; total time=   1.7s\n",
                        "[CV] END ..................C=0.1, gamma=0.001, kernel=linear; total time=   1.7s\n",
                        "[CV] END ..................C=0.1, gamma=0.001, kernel=linear; total time=   1.7s\n",
                        "[CV] END ..................C=0.1, gamma=0.001, kernel=linear; total time=   1.7s\n",
                        "[CV] END ........................C=1, gamma=1, kernel=linear; total time=   1.8s\n",
                        "[CV] END ........................C=1, gamma=1, kernel=linear; total time=   1.8s\n",
                        "[CV] END ........................C=1, gamma=1, kernel=linear; total time=   1.8s\n",
                        "[CV] END ........................C=1, gamma=1, kernel=linear; total time=   1.9s\n",
                        "[CV] END ........................C=1, gamma=1, kernel=linear; total time=   1.7s\n",
                        "[CV] END ......................C=1, gamma=0.1, kernel=linear; total time=   1.7s\n",
                        "[CV] END ......................C=1, gamma=0.1, kernel=linear; total time=   1.9s\n",
                        "[CV] END ......................C=1, gamma=0.1, kernel=linear; total time=   1.8s\n",
                        "[CV] END ......................C=1, gamma=0.1, kernel=linear; total time=   1.8s\n",
                        "[CV] END ......................C=1, gamma=0.1, kernel=linear; total time=   1.8s\n",
                        "[CV] END .....................C=1, gamma=0.01, kernel=linear; total time=   1.7s\n",
                        "[CV] END .....................C=1, gamma=0.01, kernel=linear; total time=   2.0s\n",
                        "[CV] END .....................C=1, gamma=0.01, kernel=linear; total time=   1.8s\n",
                        "[CV] END .....................C=1, gamma=0.01, kernel=linear; total time=   1.9s\n",
                        "[CV] END .....................C=1, gamma=0.01, kernel=linear; total time=   1.8s\n",
                        "[CV] END ....................C=1, gamma=0.001, kernel=linear; total time=   1.7s\n",
                        "[CV] END ....................C=1, gamma=0.001, kernel=linear; total time=   1.7s\n",
                        "[CV] END ....................C=1, gamma=0.001, kernel=linear; total time=   1.8s\n",
                        "[CV] END ....................C=1, gamma=0.001, kernel=linear; total time=   1.8s\n",
                        "[CV] END ....................C=1, gamma=0.001, kernel=linear; total time=   1.7s\n",
                        "[CV] END .......................C=10, gamma=1, kernel=linear; total time=   1.7s\n",
                        "[CV] END .......................C=10, gamma=1, kernel=linear; total time=   1.6s\n",
                        "[CV] END .......................C=10, gamma=1, kernel=linear; total time=   1.5s\n",
                        "[CV] END .......................C=10, gamma=1, kernel=linear; total time=   1.6s\n",
                        "[CV] END .......................C=10, gamma=1, kernel=linear; total time=   1.7s\n",
                        "[CV] END .....................C=10, gamma=0.1, kernel=linear; total time=   1.8s\n",
                        "[CV] END .....................C=10, gamma=0.1, kernel=linear; total time=   1.7s\n",
                        "[CV] END .....................C=10, gamma=0.1, kernel=linear; total time=   1.6s\n",
                        "[CV] END .....................C=10, gamma=0.1, kernel=linear; total time=   1.6s\n",
                        "[CV] END .....................C=10, gamma=0.1, kernel=linear; total time=   1.6s\n",
                        "[CV] END ....................C=10, gamma=0.01, kernel=linear; total time=   1.6s\n",
                        "[CV] END ....................C=10, gamma=0.01, kernel=linear; total time=   1.7s\n",
                        "[CV] END ....................C=10, gamma=0.01, kernel=linear; total time=   1.7s\n",
                        "[CV] END ....................C=10, gamma=0.01, kernel=linear; total time=   1.6s\n",
                        "[CV] END ....................C=10, gamma=0.01, kernel=linear; total time=   1.6s\n",
                        "[CV] END ...................C=10, gamma=0.001, kernel=linear; total time=   1.7s\n",
                        "[CV] END ...................C=10, gamma=0.001, kernel=linear; total time=   1.7s\n",
                        "[CV] END ...................C=10, gamma=0.001, kernel=linear; total time=   1.9s\n",
                        "[CV] END ...................C=10, gamma=0.001, kernel=linear; total time=   1.6s\n",
                        "[CV] END ...................C=10, gamma=0.001, kernel=linear; total time=   1.6s\n"
                    ]
                },
                {
                    "data": {
                        "text/html": [
                            "<style>#sk-container-id-2 {color: black;background-color: white;}#sk-container-id-2 pre{padding: 0;}#sk-container-id-2 div.sk-toggleable {background-color: white;}#sk-container-id-2 label.sk-toggleable__label {cursor: pointer;display: block;width: 100%;margin-bottom: 0;padding: 0.3em;box-sizing: border-box;text-align: center;}#sk-container-id-2 label.sk-toggleable__label-arrow:before {content: \"▸\";float: left;margin-right: 0.25em;color: #696969;}#sk-container-id-2 label.sk-toggleable__label-arrow:hover:before {color: black;}#sk-container-id-2 div.sk-estimator:hover label.sk-toggleable__label-arrow:before {color: black;}#sk-container-id-2 div.sk-toggleable__content {max-height: 0;max-width: 0;overflow: hidden;text-align: left;background-color: #f0f8ff;}#sk-container-id-2 div.sk-toggleable__content pre {margin: 0.2em;color: black;border-radius: 0.25em;background-color: #f0f8ff;}#sk-container-id-2 input.sk-toggleable__control:checked~div.sk-toggleable__content {max-height: 200px;max-width: 100%;overflow: auto;}#sk-container-id-2 input.sk-toggleable__control:checked~label.sk-toggleable__label-arrow:before {content: \"▾\";}#sk-container-id-2 div.sk-estimator input.sk-toggleable__control:checked~label.sk-toggleable__label {background-color: #d4ebff;}#sk-container-id-2 div.sk-label input.sk-toggleable__control:checked~label.sk-toggleable__label {background-color: #d4ebff;}#sk-container-id-2 input.sk-hidden--visually {border: 0;clip: rect(1px 1px 1px 1px);clip: rect(1px, 1px, 1px, 1px);height: 1px;margin: -1px;overflow: hidden;padding: 0;position: absolute;width: 1px;}#sk-container-id-2 div.sk-estimator {font-family: monospace;background-color: #f0f8ff;border: 1px dotted black;border-radius: 0.25em;box-sizing: border-box;margin-bottom: 0.5em;}#sk-container-id-2 div.sk-estimator:hover {background-color: #d4ebff;}#sk-container-id-2 div.sk-parallel-item::after {content: \"\";width: 100%;border-bottom: 1px solid gray;flex-grow: 1;}#sk-container-id-2 div.sk-label:hover label.sk-toggleable__label {background-color: #d4ebff;}#sk-container-id-2 div.sk-serial::before {content: \"\";position: absolute;border-left: 1px solid gray;box-sizing: border-box;top: 0;bottom: 0;left: 50%;z-index: 0;}#sk-container-id-2 div.sk-serial {display: flex;flex-direction: column;align-items: center;background-color: white;padding-right: 0.2em;padding-left: 0.2em;position: relative;}#sk-container-id-2 div.sk-item {position: relative;z-index: 1;}#sk-container-id-2 div.sk-parallel {display: flex;align-items: stretch;justify-content: center;background-color: white;position: relative;}#sk-container-id-2 div.sk-item::before, #sk-container-id-2 div.sk-parallel-item::before {content: \"\";position: absolute;border-left: 1px solid gray;box-sizing: border-box;top: 0;bottom: 0;left: 50%;z-index: -1;}#sk-container-id-2 div.sk-parallel-item {display: flex;flex-direction: column;z-index: 1;position: relative;background-color: white;}#sk-container-id-2 div.sk-parallel-item:first-child::after {align-self: flex-end;width: 50%;}#sk-container-id-2 div.sk-parallel-item:last-child::after {align-self: flex-start;width: 50%;}#sk-container-id-2 div.sk-parallel-item:only-child::after {width: 0;}#sk-container-id-2 div.sk-dashed-wrapped {border: 1px dashed gray;margin: 0 0.4em 0.5em 0.4em;box-sizing: border-box;padding-bottom: 0.4em;background-color: white;}#sk-container-id-2 div.sk-label label {font-family: monospace;font-weight: bold;display: inline-block;line-height: 1.2em;}#sk-container-id-2 div.sk-label-container {text-align: center;}#sk-container-id-2 div.sk-container {/* jupyter's `normalize.less` sets `[hidden] { display: none; }` but bootstrap.min.css set `[hidden] { display: none !important; }` so we also need the `!important` here to be able to override the default hidden behavior on the sphinx rendered scikit-learn.org. See: https://github.com/scikit-learn/scikit-learn/issues/21755 */display: inline-block !important;position: relative;}#sk-container-id-2 div.sk-text-repr-fallback {display: none;}</style><div id=\"sk-container-id-2\" class=\"sk-top-container\"><div class=\"sk-text-repr-fallback\"><pre>GridSearchCV(estimator=SVC(),\n",
                            "             param_grid={&#x27;C&#x27;: [0.1, 1, 10], &#x27;gamma&#x27;: [1, 0.1, 0.01, 0.001],\n",
                            "                         &#x27;kernel&#x27;: [&#x27;linear&#x27;]},\n",
                            "             verbose=2)</pre><b>In a Jupyter environment, please rerun this cell to show the HTML representation or trust the notebook. <br />On GitHub, the HTML representation is unable to render, please try loading this page with nbviewer.org.</b></div><div class=\"sk-container\" hidden><div class=\"sk-item sk-dashed-wrapped\"><div class=\"sk-label-container\"><div class=\"sk-label sk-toggleable\"><input class=\"sk-toggleable__control sk-hidden--visually\" id=\"sk-estimator-id-2\" type=\"checkbox\" ><label for=\"sk-estimator-id-2\" class=\"sk-toggleable__label sk-toggleable__label-arrow\">GridSearchCV</label><div class=\"sk-toggleable__content\"><pre>GridSearchCV(estimator=SVC(),\n",
                            "             param_grid={&#x27;C&#x27;: [0.1, 1, 10], &#x27;gamma&#x27;: [1, 0.1, 0.01, 0.001],\n",
                            "                         &#x27;kernel&#x27;: [&#x27;linear&#x27;]},\n",
                            "             verbose=2)</pre></div></div></div><div class=\"sk-parallel\"><div class=\"sk-parallel-item\"><div class=\"sk-item\"><div class=\"sk-label-container\"><div class=\"sk-label sk-toggleable\"><input class=\"sk-toggleable__control sk-hidden--visually\" id=\"sk-estimator-id-3\" type=\"checkbox\" ><label for=\"sk-estimator-id-3\" class=\"sk-toggleable__label sk-toggleable__label-arrow\">estimator: SVC</label><div class=\"sk-toggleable__content\"><pre>SVC()</pre></div></div></div><div class=\"sk-serial\"><div class=\"sk-item\"><div class=\"sk-estimator sk-toggleable\"><input class=\"sk-toggleable__control sk-hidden--visually\" id=\"sk-estimator-id-4\" type=\"checkbox\" ><label for=\"sk-estimator-id-4\" class=\"sk-toggleable__label sk-toggleable__label-arrow\">SVC</label><div class=\"sk-toggleable__content\"><pre>SVC()</pre></div></div></div></div></div></div></div></div></div></div>"
                        ],
                        "text/plain": [
                            "GridSearchCV(estimator=SVC(),\n",
                            "             param_grid={'C': [0.1, 1, 10], 'gamma': [1, 0.1, 0.01, 0.001],\n",
                            "                         'kernel': ['linear']},\n",
                            "             verbose=2)"
                        ]
                    },
                    "execution_count": 98,
                    "metadata": {},
                    "output_type": "execute_result"
                }
            ],
            "source": [
                "from sklearn.model_selection import GridSearchCV\n",
                "\n",
                "param_grid = {'C': [0.1,1, 10], 'gamma': [1,0.1,0.01,0.001],'kernel': ['linear']}\n",
                "grid = GridSearchCV(SVC(),param_grid,refit=True,verbose=2)\n",
                "grid.fit(X_train,y_train)"
            ]
        },
        {
            "cell_type": "code",
            "execution_count": 99,
            "metadata": {},
            "outputs": [
                {
                    "name": "stdout",
                    "output_type": "stream",
                    "text": [
                        "SVC(C=1, gamma=1, kernel='linear')\n"
                    ]
                }
            ],
            "source": [
                "\n",
                "print(grid.best_estimator_)"
            ]
        },
        {
            "cell_type": "code",
            "execution_count": 100,
            "metadata": {},
            "outputs": [
                {
                    "name": "stdout",
                    "output_type": "stream",
                    "text": [
                        "[[516  16]\n",
                        " [ 23  38]]\n",
                        "              precision    recall  f1-score   support\n",
                        "\n",
                        "       False       0.96      0.97      0.96       532\n",
                        "        True       0.70      0.62      0.66        61\n",
                        "\n",
                        "    accuracy                           0.93       593\n",
                        "   macro avg       0.83      0.80      0.81       593\n",
                        "weighted avg       0.93      0.93      0.93       593\n",
                        "\n"
                    ]
                }
            ],
            "source": [
                "grid_predictions = grid.predict(X_test)\n",
                "print(confusion_matrix(y_test,grid_predictions))\n",
                "print(classification_report(y_test,grid_predictions))#Output"
            ]
        }
    ],
    "metadata": {
        "kernelspec": {
            "display_name": "Python 3.8.13 64-bit ('3.8.13')",
            "language": "python",
            "name": "python3"
        },
        "language_info": {
            "codemirror_mode": {
                "name": "ipython",
                "version": 3
            },
            "file_extension": ".py",
            "mimetype": "text/x-python",
            "name": "python",
            "nbconvert_exporter": "python",
            "pygments_lexer": "ipython3",
            "version": "3.8.13"
        },
        "orig_nbformat": 4,
        "vscode": {
            "interpreter": {
                "hash": "110cc1dee26208153f2972f08a2ad52b6a56238dc66d48e87fb757ef2996db56"
            }
        }
    },
    "nbformat": 4,
    "nbformat_minor": 2
}
