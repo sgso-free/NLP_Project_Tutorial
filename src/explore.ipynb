{
    "cells": [
        {
            "cell_type": "markdown",
            "metadata": {},
            "source": [
                "# NLP Project\n",
                "\n",
                "In our last exploring NLP notebook we built an email spam detector using Natural Language Processing techniques and the Support Vector Machine (SVM) algorithm for classification.\n",
                "In this project, we will again build a spam detector but this time using URLs instead of emails."
            ]
        },
        {
            "cell_type": "code",
            "execution_count": null,
            "metadata": {},
            "outputs": [],
            "source": [
                "!pip install pandas\n",
                "!pip install nltk\n",
                "!pip install sklearn"
            ]
        },
        {
            "cell_type": "code",
            "execution_count": 8,
            "metadata": {},
            "outputs": [
                {
                    "name": "stderr",
                    "output_type": "stream",
                    "text": [
                        "[nltk_data] Downloading package stopwords to /home/gitpod/nltk_data...\n",
                        "[nltk_data]   Package stopwords is already up-to-date!\n"
                    ]
                }
            ],
            "source": [
                "import pandas as pd\n",
                "import numpy as np\n",
                "import nltk #text processing\n",
                "import re\n",
                "import unicodedata\n",
                "from nltk.corpus import stopwords\n",
                "nltk.download('stopwords')\n",
                "from sklearn.feature_extraction.text import CountVectorizer\n",
                "from sklearn.naive_bayes import MultinomialNB\n",
                "from sklearn.model_selection import train_test_split"
            ]
        },
        {
            "cell_type": "code",
            "execution_count": 9,
            "metadata": {},
            "outputs": [],
            "source": [
                "url = \"https://raw.githubusercontent.com/4GeeksAcademy/NLP-project-tutorial/main/url_spam.csv\"\n",
                "df_raw = pd.read_csv(url)"
            ]
        },
        {
            "cell_type": "code",
            "execution_count": 10,
            "metadata": {},
            "outputs": [
                {
                    "name": "stdout",
                    "output_type": "stream",
                    "text": [
                        "<class 'pandas.core.frame.DataFrame'>\n",
                        "RangeIndex: 2999 entries, 0 to 2998\n",
                        "Data columns (total 2 columns):\n",
                        " #   Column   Non-Null Count  Dtype \n",
                        "---  ------   --------------  ----- \n",
                        " 0   url      2999 non-null   object\n",
                        " 1   is_spam  2999 non-null   bool  \n",
                        "dtypes: bool(1), object(1)\n",
                        "memory usage: 26.5+ KB\n"
                    ]
                }
            ],
            "source": [
                "df_raw.info()"
            ]
        },
        {
            "cell_type": "code",
            "execution_count": 11,
            "metadata": {},
            "outputs": [
                {
                    "data": {
                        "text/html": [
                            "<div>\n",
                            "<style scoped>\n",
                            "    .dataframe tbody tr th:only-of-type {\n",
                            "        vertical-align: middle;\n",
                            "    }\n",
                            "\n",
                            "    .dataframe tbody tr th {\n",
                            "        vertical-align: top;\n",
                            "    }\n",
                            "\n",
                            "    .dataframe thead th {\n",
                            "        text-align: right;\n",
                            "    }\n",
                            "</style>\n",
                            "<table border=\"1\" class=\"dataframe\">\n",
                            "  <thead>\n",
                            "    <tr style=\"text-align: right;\">\n",
                            "      <th></th>\n",
                            "      <th>url</th>\n",
                            "      <th>is_spam</th>\n",
                            "    </tr>\n",
                            "  </thead>\n",
                            "  <tbody>\n",
                            "    <tr>\n",
                            "      <th>1775</th>\n",
                            "      <td>https://www.theskimm.com/</td>\n",
                            "      <td>True</td>\n",
                            "    </tr>\n",
                            "    <tr>\n",
                            "      <th>2877</th>\n",
                            "      <td>https://skeptics.stackexchange.com/questions/2...</td>\n",
                            "      <td>False</td>\n",
                            "    </tr>\n",
                            "    <tr>\n",
                            "      <th>2936</th>\n",
                            "      <td>https://www.coronavirus.gov/</td>\n",
                            "      <td>True</td>\n",
                            "    </tr>\n",
                            "    <tr>\n",
                            "      <th>2987</th>\n",
                            "      <td>https://thehustle.co/07012020-Corporate-swag/</td>\n",
                            "      <td>False</td>\n",
                            "    </tr>\n",
                            "    <tr>\n",
                            "      <th>67</th>\n",
                            "      <td>https://www.theguardian.com/film/2020/jun/19/w...</td>\n",
                            "      <td>False</td>\n",
                            "    </tr>\n",
                            "    <tr>\n",
                            "      <th>333</th>\n",
                            "      <td>https://www.morningbrew.com/retail/</td>\n",
                            "      <td>True</td>\n",
                            "    </tr>\n",
                            "    <tr>\n",
                            "      <th>1524</th>\n",
                            "      <td>https://www.youtube.com/watch?v=Yz3mQhuMACs&amp;fe...</td>\n",
                            "      <td>False</td>\n",
                            "    </tr>\n",
                            "    <tr>\n",
                            "      <th>243</th>\n",
                            "      <td>https://www.politico.com/news/2020/06/21/takea...</td>\n",
                            "      <td>False</td>\n",
                            "    </tr>\n",
                            "    <tr>\n",
                            "      <th>2546</th>\n",
                            "      <td>https://playbill.com/article/broadway-will-off...</td>\n",
                            "      <td>False</td>\n",
                            "    </tr>\n",
                            "    <tr>\n",
                            "      <th>1371</th>\n",
                            "      <td>https://www.morningbrew.com/emerging-tech/</td>\n",
                            "      <td>True</td>\n",
                            "    </tr>\n",
                            "  </tbody>\n",
                            "</table>\n",
                            "</div>"
                        ],
                        "text/plain": [
                            "                                                    url  is_spam\n",
                            "1775                          https://www.theskimm.com/     True\n",
                            "2877  https://skeptics.stackexchange.com/questions/2...    False\n",
                            "2936                       https://www.coronavirus.gov/     True\n",
                            "2987      https://thehustle.co/07012020-Corporate-swag/    False\n",
                            "67    https://www.theguardian.com/film/2020/jun/19/w...    False\n",
                            "333                 https://www.morningbrew.com/retail/     True\n",
                            "1524  https://www.youtube.com/watch?v=Yz3mQhuMACs&fe...    False\n",
                            "243   https://www.politico.com/news/2020/06/21/takea...    False\n",
                            "2546  https://playbill.com/article/broadway-will-off...    False\n",
                            "1371         https://www.morningbrew.com/emerging-tech/     True"
                        ]
                    },
                    "execution_count": 11,
                    "metadata": {},
                    "output_type": "execute_result"
                }
            ],
            "source": [
                "df_raw.sample(10)"
            ]
        },
        {
            "cell_type": "code",
            "execution_count": 13,
            "metadata": {},
            "outputs": [
                {
                    "data": {
                        "text/plain": [
                            "False    2303\n",
                            "True      696\n",
                            "Name: is_spam, dtype: int64"
                        ]
                    },
                    "execution_count": 13,
                    "metadata": {},
                    "output_type": "execute_result"
                }
            ],
            "source": [
                "df_raw['is_spam'].value_counts()\n"
            ]
        },
        {
            "cell_type": "code",
            "execution_count": 15,
            "metadata": {},
            "outputs": [],
            "source": [
                "df = df_raw.copy()"
            ]
        },
        {
            "cell_type": "markdown",
            "metadata": {},
            "source": [
                "## PREPROCESS"
            ]
        },
        {
            "cell_type": "code",
            "execution_count": 37,
            "metadata": {},
            "outputs": [],
            "source": [
                "domain= df['url'].apply(lambda x :re.findall('://w?w?w?\\.?([\\w\\-\\.]+)', x)[0])\n",
                "proto = df['url'].apply(lambda x :re.findall('(\\w+)://', x)[0])"
            ]
        },
        {
            "cell_type": "code",
            "execution_count": 38,
            "metadata": {},
            "outputs": [
                {
                    "data": {
                        "text/plain": [
                            "morningbrew.com               194\n",
                            "nytimes.com                   112\n",
                            "youtube.com                    98\n",
                            "reuters.com                    67\n",
                            "cnn.com                        66\n",
                            "                             ... \n",
                            "hirshhorn.si.edu                1\n",
                            "bonappetit.com                  1\n",
                            "framestrategy.co                1\n",
                            "framestrategy.substack.com      1\n",
                            "smartcitiesworld.net            1\n",
                            "Name: url, Length: 764, dtype: int64"
                        ]
                    },
                    "execution_count": 38,
                    "metadata": {},
                    "output_type": "execute_result"
                }
            ],
            "source": [
                "domain.value_counts()"
            ]
        },
        {
            "cell_type": "code",
            "execution_count": 39,
            "metadata": {},
            "outputs": [
                {
                    "data": {
                        "text/plain": [
                            "https    2945\n",
                            "http       54\n",
                            "Name: url, dtype: int64"
                        ]
                    },
                    "execution_count": 39,
                    "metadata": {},
                    "output_type": "execute_result"
                }
            ],
            "source": [
                "proto.value_counts()\n",
                "#only two value so, use a binary column"
            ]
        },
        {
            "cell_type": "code",
            "execution_count": 40,
            "metadata": {},
            "outputs": [
                {
                    "data": {
                        "text/html": [
                            "<div>\n",
                            "<style scoped>\n",
                            "    .dataframe tbody tr th:only-of-type {\n",
                            "        vertical-align: middle;\n",
                            "    }\n",
                            "\n",
                            "    .dataframe tbody tr th {\n",
                            "        vertical-align: top;\n",
                            "    }\n",
                            "\n",
                            "    .dataframe thead th {\n",
                            "        text-align: right;\n",
                            "    }\n",
                            "</style>\n",
                            "<table border=\"1\" class=\"dataframe\">\n",
                            "  <thead>\n",
                            "    <tr style=\"text-align: right;\">\n",
                            "      <th></th>\n",
                            "      <th>url</th>\n",
                            "      <th>is_spam</th>\n",
                            "      <th>len_url</th>\n",
                            "      <th>contains_subscribe</th>\n",
                            "      <th>contains_hash</th>\n",
                            "      <th>num_digits</th>\n",
                            "      <th>non_https</th>\n",
                            "      <th>num_words</th>\n",
                            "      <th>domain</th>\n",
                            "      <th>proto</th>\n",
                            "    </tr>\n",
                            "  </thead>\n",
                            "  <tbody>\n",
                            "    <tr>\n",
                            "      <th>590</th>\n",
                            "      <td>https://www.hollywoodreporter.com/live-feed/ji...</td>\n",
                            "      <td>0</td>\n",
                            "      <td>117</td>\n",
                            "      <td>0</td>\n",
                            "      <td>0</td>\n",
                            "      <td>7</td>\n",
                            "      <td>1</td>\n",
                            "      <td>5</td>\n",
                            "      <td>hollywoodreporter.com</td>\n",
                            "      <td>https</td>\n",
                            "    </tr>\n",
                            "    <tr>\n",
                            "      <th>1448</th>\n",
                            "      <td>https://www.eventbrite.com/e/big-friendship-bo...</td>\n",
                            "      <td>1</td>\n",
                            "      <td>76</td>\n",
                            "      <td>0</td>\n",
                            "      <td>0</td>\n",
                            "      <td>12</td>\n",
                            "      <td>1</td>\n",
                            "      <td>5</td>\n",
                            "      <td>eventbrite.com</td>\n",
                            "      <td>https</td>\n",
                            "    </tr>\n",
                            "    <tr>\n",
                            "      <th>2750</th>\n",
                            "      <td>https://www.nytimes.com/2020/06/29/science/fly...</td>\n",
                            "      <td>0</td>\n",
                            "      <td>69</td>\n",
                            "      <td>0</td>\n",
                            "      <td>0</td>\n",
                            "      <td>8</td>\n",
                            "      <td>1</td>\n",
                            "      <td>8</td>\n",
                            "      <td>nytimes.com</td>\n",
                            "      <td>https</td>\n",
                            "    </tr>\n",
                            "    <tr>\n",
                            "      <th>790</th>\n",
                            "      <td>https://ew.com/movies/scott-pilgrim-vs-the-wor...</td>\n",
                            "      <td>0</td>\n",
                            "      <td>62</td>\n",
                            "      <td>0</td>\n",
                            "      <td>0</td>\n",
                            "      <td>0</td>\n",
                            "      <td>1</td>\n",
                            "      <td>6</td>\n",
                            "      <td>ew.com</td>\n",
                            "      <td>https</td>\n",
                            "    </tr>\n",
                            "    <tr>\n",
                            "      <th>30</th>\n",
                            "      <td>https://link.morningbrew.com/manage/5z8/oc</td>\n",
                            "      <td>1</td>\n",
                            "      <td>42</td>\n",
                            "      <td>0</td>\n",
                            "      <td>0</td>\n",
                            "      <td>2</td>\n",
                            "      <td>1</td>\n",
                            "      <td>6</td>\n",
                            "      <td>link.morningbrew.com</td>\n",
                            "      <td>https</td>\n",
                            "    </tr>\n",
                            "    <tr>\n",
                            "      <th>1317</th>\n",
                            "      <td>https://www.caltech.edu/about/news/where-are-m...</td>\n",
                            "      <td>0</td>\n",
                            "      <td>96</td>\n",
                            "      <td>0</td>\n",
                            "      <td>0</td>\n",
                            "      <td>0</td>\n",
                            "      <td>1</td>\n",
                            "      <td>6</td>\n",
                            "      <td>caltech.edu</td>\n",
                            "      <td>https</td>\n",
                            "    </tr>\n",
                            "    <tr>\n",
                            "      <th>2244</th>\n",
                            "      <td>https://www.washingtonpost.com/national-securi...</td>\n",
                            "      <td>0</td>\n",
                            "      <td>222</td>\n",
                            "      <td>0</td>\n",
                            "      <td>0</td>\n",
                            "      <td>24</td>\n",
                            "      <td>1</td>\n",
                            "      <td>9</td>\n",
                            "      <td>washingtonpost.com</td>\n",
                            "      <td>https</td>\n",
                            "    </tr>\n",
                            "    <tr>\n",
                            "      <th>2737</th>\n",
                            "      <td>https://www.theskimm.com/general/disclaimers-2...</td>\n",
                            "      <td>1</td>\n",
                            "      <td>72</td>\n",
                            "      <td>0</td>\n",
                            "      <td>0</td>\n",
                            "      <td>5</td>\n",
                            "      <td>1</td>\n",
                            "      <td>5</td>\n",
                            "      <td>theskimm.com</td>\n",
                            "      <td>https</td>\n",
                            "    </tr>\n",
                            "    <tr>\n",
                            "      <th>1116</th>\n",
                            "      <td>https://www.nytimes.com/2020/06/12/arts/music/...</td>\n",
                            "      <td>0</td>\n",
                            "      <td>81</td>\n",
                            "      <td>0</td>\n",
                            "      <td>0</td>\n",
                            "      <td>8</td>\n",
                            "      <td>1</td>\n",
                            "      <td>9</td>\n",
                            "      <td>nytimes.com</td>\n",
                            "      <td>https</td>\n",
                            "    </tr>\n",
                            "    <tr>\n",
                            "      <th>574</th>\n",
                            "      <td>https://www.theguardian.com/environment/galler...</td>\n",
                            "      <td>0</td>\n",
                            "      <td>127</td>\n",
                            "      <td>0</td>\n",
                            "      <td>0</td>\n",
                            "      <td>6</td>\n",
                            "      <td>1</td>\n",
                            "      <td>9</td>\n",
                            "      <td>theguardian.com</td>\n",
                            "      <td>https</td>\n",
                            "    </tr>\n",
                            "  </tbody>\n",
                            "</table>\n",
                            "</div>"
                        ],
                        "text/plain": [
                            "                                                    url  is_spam  len_url  \\\n",
                            "590   https://www.hollywoodreporter.com/live-feed/ji...        0      117   \n",
                            "1448  https://www.eventbrite.com/e/big-friendship-bo...        1       76   \n",
                            "2750  https://www.nytimes.com/2020/06/29/science/fly...        0       69   \n",
                            "790   https://ew.com/movies/scott-pilgrim-vs-the-wor...        0       62   \n",
                            "30           https://link.morningbrew.com/manage/5z8/oc        1       42   \n",
                            "1317  https://www.caltech.edu/about/news/where-are-m...        0       96   \n",
                            "2244  https://www.washingtonpost.com/national-securi...        0      222   \n",
                            "2737  https://www.theskimm.com/general/disclaimers-2...        1       72   \n",
                            "1116  https://www.nytimes.com/2020/06/12/arts/music/...        0       81   \n",
                            "574   https://www.theguardian.com/environment/galler...        0      127   \n",
                            "\n",
                            "      contains_subscribe  contains_hash  num_digits  non_https  num_words  \\\n",
                            "590                    0              0           7          1          5   \n",
                            "1448                   0              0          12          1          5   \n",
                            "2750                   0              0           8          1          8   \n",
                            "790                    0              0           0          1          6   \n",
                            "30                     0              0           2          1          6   \n",
                            "1317                   0              0           0          1          6   \n",
                            "2244                   0              0          24          1          9   \n",
                            "2737                   0              0           5          1          5   \n",
                            "1116                   0              0           8          1          9   \n",
                            "574                    0              0           6          1          9   \n",
                            "\n",
                            "                     domain  proto  \n",
                            "590   hollywoodreporter.com  https  \n",
                            "1448         eventbrite.com  https  \n",
                            "2750            nytimes.com  https  \n",
                            "790                  ew.com  https  \n",
                            "30     link.morningbrew.com  https  \n",
                            "1317            caltech.edu  https  \n",
                            "2244     washingtonpost.com  https  \n",
                            "2737           theskimm.com  https  \n",
                            "1116            nytimes.com  https  \n",
                            "574         theguardian.com  https  "
                        ]
                    },
                    "execution_count": 40,
                    "metadata": {},
                    "output_type": "execute_result"
                }
            ],
            "source": [
                "df['len_url'] = df['url'].apply(lambda x : len(x))\n",
                "df['contains_subscribe'] = df['url'].apply(lambda x : 1 if \"subscribe\" in x else 0)\n",
                "df['contains_hash'] = df['url'].apply(lambda x : 1 if \"#\" in x else 0)\n",
                "df['num_digits'] = df['url'].apply(lambda x : len(\"\".join(_ for _ in x if _.isdigit())) )\n",
                "df['non_https'] = df['url'].apply(lambda x : 1 if \"https\" in x else 0) \n",
                "df['num_words'] = df['url'].apply(lambda x : len(x.split(\"/\")))\n",
                "df['domain'] = df['url'].apply(lambda x :re.findall('://w?w?w?\\.?([\\w\\-\\.]+)', x)[0]) \n",
                "df[\"is_spam\"] = df[\"is_spam\"].astype(int)\n",
                "df.sample(10)"
            ]
        },
        {
            "cell_type": "code",
            "execution_count": 28,
            "metadata": {},
            "outputs": [
                {
                    "data": {
                        "text/plain": [
                            "morningbrew.com               194\n",
                            "nytimes.com                   112\n",
                            "youtube.com                    98\n",
                            "reuters.com                    67\n",
                            "cnn.com                        66\n",
                            "                             ... \n",
                            "hirshhorn.si.edu                1\n",
                            "bonappetit.com                  1\n",
                            "framestrategy.co                1\n",
                            "framestrategy.substack.com      1\n",
                            "smartcitiesworld.net            1\n",
                            "Name: domain, Length: 764, dtype: int64"
                        ]
                    },
                    "execution_count": 28,
                    "metadata": {},
                    "output_type": "execute_result"
                }
            ],
            "source": [
                "df['domain'].value_counts()\n"
            ]
        },
        {
            "cell_type": "code",
            "execution_count": 36,
            "metadata": {},
            "outputs": [
                {
                    "data": {
                        "text/plain": [
                            "https    2945\n",
                            "http       54\n",
                            "Name: proto, dtype: int64"
                        ]
                    },
                    "execution_count": 36,
                    "metadata": {},
                    "output_type": "execute_result"
                }
            ],
            "source": [
                "df['proto'].value_counts()"
            ]
        }
    ],
    "metadata": {
        "kernelspec": {
            "display_name": "Python 3.8.13 64-bit ('3.8.13')",
            "language": "python",
            "name": "python3"
        },
        "language_info": {
            "codemirror_mode": {
                "name": "ipython",
                "version": 3
            },
            "file_extension": ".py",
            "mimetype": "text/x-python",
            "name": "python",
            "nbconvert_exporter": "python",
            "pygments_lexer": "ipython3",
            "version": "3.8.13"
        },
        "orig_nbformat": 4,
        "vscode": {
            "interpreter": {
                "hash": "110cc1dee26208153f2972f08a2ad52b6a56238dc66d48e87fb757ef2996db56"
            }
        }
    },
    "nbformat": 4,
    "nbformat_minor": 2
}
